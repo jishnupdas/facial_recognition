{
 "cells": [
  {
   "cell_type": "code",
   "execution_count": 1,
   "metadata": {},
   "outputs": [
    {
     "name": "stdout",
     "output_type": "stream",
     "text": [
      "pygame 2.1.2 (SDL 2.0.18, Python 3.8.5)\n",
      "Hello from the pygame community. https://www.pygame.org/contribute.html\n",
      "Press 'p' to pause, 'r' to resume\n",
      "Press 'e' to exit the program\n",
      "  e\n"
     ]
    }
   ],
   "source": [
    "from pygame import mixer\n",
    "  \n",
    "# Starting the mixer\n",
    "mixer.init()\n",
    "  \n",
    "# Loading the song\n",
    "mixer.music.load(\"alarm.wav\")\n",
    "  \n",
    "# Setting the volume\n",
    "mixer.music.set_volume(0.7)\n",
    "  \n",
    "# Start playing the song\n",
    "mixer.music.play()\n",
    "  \n",
    "# infinite loop\n",
    "while True:\n",
    "      \n",
    "    print(\"Press 'p' to pause, 'r' to resume\")\n",
    "    print(\"Press 'e' to exit the program\")\n",
    "    query = input(\"  \")\n",
    "      \n",
    "    if query == 'p':\n",
    "  \n",
    "        # Pausing the music\n",
    "        mixer.music.pause()     \n",
    "    elif query == 'r':\n",
    "  \n",
    "        # Resuming the music\n",
    "        mixer.music.unpause()\n",
    "    elif query == 'e':\n",
    "  \n",
    "        # Stop the mixer\n",
    "        mixer.music.stop()\n",
    "        break"
   ]
  },
  {
   "cell_type": "code",
   "execution_count": null,
   "metadata": {},
   "outputs": [],
   "source": []
  }
 ],
 "metadata": {
  "kernelspec": {
   "display_name": "Python 3",
   "language": "python",
   "name": "python3"
  },
  "language_info": {
   "codemirror_mode": {
    "name": "ipython",
    "version": 3
   },
   "file_extension": ".py",
   "mimetype": "text/x-python",
   "name": "python",
   "nbconvert_exporter": "python",
   "pygments_lexer": "ipython3",
   "version": "3.8.5"
  }
 },
 "nbformat": 4,
 "nbformat_minor": 4
}
