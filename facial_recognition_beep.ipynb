{
 "cells": [
  {
   "cell_type": "markdown",
   "metadata": {},
   "source": [
    "# Facial recognition and trigger"
   ]
  },
  {
   "cell_type": "markdown",
   "metadata": {},
   "source": [
    "Installing necessary libraries"
   ]
  },
  {
   "cell_type": "code",
   "execution_count": 1,
   "metadata": {},
   "outputs": [
    {
     "name": "stdout",
     "output_type": "stream",
     "text": [
      "Defaulting to user installation because normal site-packages is not writeable\n",
      "Requirement already satisfied: opencv-python in /home/jishnu/.local/lib/python3.8/site-packages (4.6.0.66)\n",
      "Requirement already satisfied: opencv-contrib-python in /home/jishnu/.local/lib/python3.8/site-packages (4.6.0.66)\n",
      "Requirement already satisfied: pillow in /usr/lib/python3/dist-packages (7.0.0)\n",
      "Requirement already satisfied: numpy in /home/jishnu/.local/lib/python3.8/site-packages (1.22.4)\n",
      "Requirement already satisfied: pygame in /home/jishnu/.local/lib/python3.8/site-packages (2.1.2)\n",
      "Note: you may need to restart the kernel to use updated packages.\n"
     ]
    }
   ],
   "source": [
    "pip install opencv-python opencv-contrib-python pillow numpy pygame"
   ]
  },
  {
   "cell_type": "markdown",
   "metadata": {},
   "source": [
    "import necessary libraries"
   ]
  },
  {
   "cell_type": "code",
   "execution_count": 2,
   "metadata": {},
   "outputs": [
    {
     "name": "stdout",
     "output_type": "stream",
     "text": [
      "pygame 2.1.2 (SDL 2.0.16, Python 3.8.10)\n",
      "Hello from the pygame community. https://www.pygame.org/contribute.html\n"
     ]
    }
   ],
   "source": [
    "import cv2\n",
    "import numpy as np\n",
    "from utils import (\n",
    "    get_faces_lib,\n",
    "    save_to_disk,\n",
    "    get_images_and_labels,\n",
    "    get_camera,\n",
    "    get_alarm_sound,\n",
    ")\n"
   ]
  },
  {
   "cell_type": "markdown",
   "metadata": {},
   "source": [
    "creating necessary folders"
   ]
  },
  {
   "cell_type": "code",
   "execution_count": 3,
   "metadata": {},
   "outputs": [],
   "source": [
    "mkdir -p FacialRecognitionProject dataset trainer"
   ]
  },
  {
   "cell_type": "code",
   "execution_count": 4,
   "metadata": {},
   "outputs": [],
   "source": [
    "def register_face():\n",
    "    \"\"\"\n",
    "    register a face and save 30 images of the face to disk\n",
    "    \"\"\"\n",
    "    cam = get_camera(camera_id=0, height=480, width=640)\n",
    "\n",
    "    face_detector = cv2.CascadeClassifier(\"haarcascade_frontalface_default.xml\")\n",
    "    # For each person, enter one numeric face id\n",
    "    face_id = input(\"\\n enter user id and press <enter> ==>  \")\n",
    "    name = input(\"\\n enter user's name and press <enter> ==>  \")\n",
    "    print(\"\\n [INFO] Initializing face capture. Look the camera and wait ...\")\n",
    "    # Initialize individual sampling face count\n",
    "    count = 0\n",
    "    while True:\n",
    "        ret, img = cam.read()\n",
    "        img = cv2.flip(img, 1)  # flip video image vertically\n",
    "        gray = cv2.cvtColor(img, cv2.COLOR_BGR2GRAY)\n",
    "        faces = face_detector.detectMultiScale(gray, 1.3, 5)\n",
    "\n",
    "        for (x, y, w, h) in faces:\n",
    "            cv2.rectangle(img, (x, y), (x + w, y + h), (255, 0, 0), 2)\n",
    "            count += 1\n",
    "            # Save the captured image into the datasets folder\n",
    "            cv2.imwrite(\n",
    "                f\"dataset/User.{face_id}.{count}.jpg\",\n",
    "                gray[y : y + h, x : x + w],\n",
    "            )\n",
    "            cv2.imshow(\"image\", img)\n",
    "\n",
    "        k = cv2.waitKey(100) & 0xFF  # Press 'ESC' for exiting video\n",
    "        if k == 27:\n",
    "            break\n",
    "        elif count >= 30:  # Take 30 face sample and stop video\n",
    "            break\n",
    "    # Do a bit of cleanup\n",
    "    print(\"\\n [INFO] Exiting Program and cleanup stuff\")\n",
    "    cam.release()\n",
    "    cv2.destroyAllWindows()\n",
    "    # save the name of the person\n",
    "    save_to_disk({face_id: name})\n"
   ]
  },
  {
   "cell_type": "markdown",
   "metadata": {},
   "source": [
    "## Registering a face"
   ]
  },
  {
   "cell_type": "code",
   "execution_count": 5,
   "metadata": {},
   "outputs": [
    {
     "name": "stdout",
     "output_type": "stream",
     "text": [
      "\n",
      " [INFO] Initializing face capture. Look the camera and wait ...\n",
      "\n",
      " [INFO] Exiting Program and cleanup stuff\n"
     ]
    }
   ],
   "source": [
    "register_face()"
   ]
  },
  {
   "cell_type": "markdown",
   "metadata": {},
   "source": [
    "## Training the model\n",
    "\n",
    "train our model to recognise the registered faces"
   ]
  },
  {
   "cell_type": "code",
   "execution_count": 6,
   "metadata": {},
   "outputs": [
    {
     "name": "stdout",
     "output_type": "stream",
     "text": [
      "\n",
      " [INFO] Training faces. It will take a few seconds. Wait ...\n",
      "\n",
      " [INFO] 3 faces trained. Exiting Program\n"
     ]
    }
   ],
   "source": [
    "# Path for face image database\n",
    "path = \"dataset\"\n",
    "recognizer = cv2.face.LBPHFaceRecognizer_create()\n",
    "\n",
    "print(\"\\n [INFO] Training faces. It will take a few seconds. Wait ...\")\n",
    "\n",
    "faces, ids = get_images_and_labels(path)\n",
    "recognizer.train(faces, np.array(ids))\n",
    "# Save the model into trainer/trainer.yml\n",
    "recognizer.write(\"trainer/trainer.yml\")\n",
    "print(f\"\\n [INFO] {len(np.unique(ids))} faces trained. Exiting Program\")"
   ]
  },
  {
   "cell_type": "code",
   "execution_count": 7,
   "metadata": {},
   "outputs": [],
   "source": [
    "def detect_faces():\n",
    "    recognizer = cv2.face.LBPHFaceRecognizer_create()\n",
    "    recognizer.read(\"trainer/trainer.yml\")\n",
    "    faceCascade = cv2.CascadeClassifier(\"haarcascade_frontalface_default.xml\")\n",
    "    font = cv2.FONT_HERSHEY_SIMPLEX\n",
    "\n",
    "    names = get_faces_lib()\n",
    "\n",
    "    # Initialize and start realtime video capture\n",
    "    cam = get_camera(camera_id=0, height=480, width=640)\n",
    "    # Define min window size to be recognized as a face\n",
    "    minW = 0.1 * cam.get(3)\n",
    "    minH = 0.1 * cam.get(4)\n",
    "    while True:\n",
    "        ret, img = cam.read()\n",
    "        img = cv2.flip(img, 1)  # Flip vertically\n",
    "        gray = cv2.cvtColor(img, cv2.COLOR_BGR2GRAY)\n",
    "\n",
    "        faces = faceCascade.detectMultiScale(\n",
    "            gray,\n",
    "            scaleFactor=1.2,\n",
    "            minNeighbors=5,\n",
    "            minSize=(int(minW), int(minH)),\n",
    "        )\n",
    "        for (x, y, w, h) in faces:\n",
    "            cv2.rectangle(img, (x, y), (x + w, y + h), (0, 255, 0), 2)\n",
    "            id, confidence = recognizer.predict(gray[y : y + h, x : x + w])\n",
    "\n",
    "            # If confidence is less them 100 ==> \"0\" : perfect match\n",
    "            name = names.get(str(id), \"unknown\") if confidence < 100 else \"unknown\"\n",
    "\n",
    "            if confidence < 100:\n",
    "                sound = get_alarm_sound()\n",
    "                try:\n",
    "                    sound.play()\n",
    "                except Exception as e:\n",
    "                    print(\"\\n [ERROR] error while playing sound: \", e)\n",
    "\n",
    "            confidence = \" {:.2f}\".format(confidence)\n",
    "            cv2.putText(img, str(name), (x + 5, y - 5), font, 1, (255, 255, 255), 2)\n",
    "            cv2.putText(\n",
    "                img, str(confidence), (x + 5, y + h - 5), font, 1, (255, 255, 0), 1\n",
    "            )\n",
    "\n",
    "        cv2.imshow(\"camera\", img)\n",
    "        k = cv2.waitKey(30) & 0xFF\n",
    "        if k == 27:  # press 'ESC' to quit\n",
    "            break\n",
    "\n",
    "    cam.release()\n",
    "    cv2.destroyAllWindows()\n"
   ]
  },
  {
   "cell_type": "markdown",
   "metadata": {},
   "source": [
    "## Running the model"
   ]
  },
  {
   "cell_type": "code",
   "execution_count": 8,
   "metadata": {},
   "outputs": [],
   "source": [
    "detect_faces()\n"
   ]
  }
 ],
 "metadata": {
  "kernelspec": {
   "display_name": "Python 3 (ipykernel)",
   "language": "python",
   "name": "python3"
  },
  "language_info": {
   "codemirror_mode": {
    "name": "ipython",
    "version": 3
   },
   "file_extension": ".py",
   "mimetype": "text/x-python",
   "name": "python",
   "nbconvert_exporter": "python",
   "pygments_lexer": "ipython3",
   "version": "3.8.10"
  },
  "vscode": {
   "interpreter": {
    "hash": "916dbcbb3f70747c44a77c7bcd40155683ae19c65e1c03b4aa3499c5328201f1"
   }
  }
 },
 "nbformat": 4,
 "nbformat_minor": 4
}
