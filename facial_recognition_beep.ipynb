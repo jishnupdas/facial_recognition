{
 "cells": [
  {
   "cell_type": "markdown",
   "metadata": {},
   "source": [
    "# Facial recognition and trigger"
   ]
  },
  {
   "cell_type": "markdown",
   "metadata": {},
   "source": [
    "Installing necessary libraries"
   ]
  },
  {
   "cell_type": "code",
   "execution_count": 1,
   "metadata": {},
   "outputs": [
    {
     "name": "stdout",
     "output_type": "stream",
     "text": [
      "Defaulting to user installation because normal site-packages is not writeable\n",
      "Requirement already satisfied: opencv-python in /home/jishnu/.local/lib/python3.8/site-packages (4.6.0.66)\n",
      "Requirement already satisfied: opencv-contrib-python in /home/jishnu/.local/lib/python3.8/site-packages (4.6.0.66)\n",
      "Requirement already satisfied: pillow in /usr/lib/python3/dist-packages (7.0.0)\n",
      "Requirement already satisfied: numpy in /home/jishnu/.local/lib/python3.8/site-packages (1.22.4)\n",
      "Note: you may need to restart the kernel to use updated packages.\n"
     ]
    }
   ],
   "source": [
    "pip install opencv-python opencv-contrib-python pillow numpy"
   ]
  },
  {
   "cell_type": "markdown",
   "metadata": {},
   "source": [
    "import necessary libraries"
   ]
  },
  {
   "cell_type": "code",
   "execution_count": 42,
   "metadata": {},
   "outputs": [],
   "source": [
    "import os\n",
    "import json\n",
    "import cv2\n",
    "import numpy as np\n",
    "from PIL import Image"
   ]
  },
  {
   "cell_type": "markdown",
   "metadata": {},
   "source": [
    "creating necessary folders"
   ]
  },
  {
   "cell_type": "code",
   "execution_count": 3,
   "metadata": {},
   "outputs": [],
   "source": [
    "mkdir -p FacialRecognitionProject dataset trainer"
   ]
  },
  {
   "cell_type": "markdown",
   "metadata": {},
   "source": [
    "### Creating some utility functions"
   ]
  },
  {
   "cell_type": "code",
   "execution_count": 49,
   "metadata": {},
   "outputs": [],
   "source": [
    "def save_to_disk(face_dict, path=\"faces_lib.json\"):\n",
    "    if os.path.exists(path):  # read existing data\n",
    "        with open(path, \"r\") as f:\n",
    "            data = json.load(f)\n",
    "    else:\n",
    "        data = {}\n",
    "    with open(path, \"w+\") as f:  # add new data\n",
    "        data.update(face_dict)\n",
    "        json.dump(data, f)  # save to disk\n",
    "\n",
    "\n",
    "def get_faces_lib(path=\"faces_lib.json\"):\n",
    "    if os.path.exists(path):  # read existing data\n",
    "        with open(path, \"r\") as f:\n",
    "            data = json.load(f)\n",
    "    else:\n",
    "        data = {}\n",
    "    return data\n"
   ]
  },
  {
   "cell_type": "markdown",
   "metadata": {},
   "source": [
    "## Registering a face"
   ]
  },
  {
   "cell_type": "code",
   "execution_count": 50,
   "metadata": {},
   "outputs": [],
   "source": [
    "def register_face():\n",
    "    \"\"\"\n",
    "    register a face and save 30 images of the face to disk\n",
    "    \"\"\"\n",
    "    cam = cv2.VideoCapture(0)\n",
    "    cam.set(3, 640)  # set video width\n",
    "    cam.set(4, 480)  # set video height\n",
    "\n",
    "    face_detector = cv2.CascadeClassifier(\"haarcascade_frontalface_default.xml\")\n",
    "    # For each person, enter one numeric face id\n",
    "    face_id = input(\"\\n enter user id and press <enter> ==>  \")\n",
    "    name = input(\"\\n enter user's name and press <enter> ==>  \")\n",
    "    print(\"\\n [INFO] Initializing face capture. Look the camera and wait ...\")\n",
    "    # Initialize individual sampling face count\n",
    "    count = 0\n",
    "    while True:\n",
    "        ret, img = cam.read()\n",
    "        img = cv2.flip(img, 1)  # flip video image vertically\n",
    "        gray = cv2.cvtColor(img, cv2.COLOR_BGR2GRAY)\n",
    "        faces = face_detector.detectMultiScale(gray, 1.3, 5)\n",
    "\n",
    "        for (x, y, w, h) in faces:\n",
    "            cv2.rectangle(img, (x, y), (x + w, y + h), (255, 0, 0), 2)\n",
    "            count += 1\n",
    "            # Save the captured image into the datasets folder\n",
    "            cv2.imwrite(\n",
    "                f\"dataset/User.{face_id}.{count}.jpg\",\n",
    "                gray[y : y + h, x : x + w],\n",
    "            )\n",
    "            cv2.imshow(\"image\", img)\n",
    "\n",
    "        k = cv2.waitKey(100) & 0xFF  # Press 'ESC' for exiting video\n",
    "        if k == 27:\n",
    "            break\n",
    "        elif count >= 30:  # Take 30 face sample and stop video\n",
    "            break\n",
    "    # Do a bit of cleanup\n",
    "    print(\"\\n [INFO] Exiting Program and cleanup stuff\")\n",
    "    cam.release()\n",
    "    cv2.destroyAllWindows()\n",
    "    # save the name of the person\n",
    "    save_to_disk({face_id: name})\n"
   ]
  },
  {
   "cell_type": "code",
   "execution_count": 51,
   "metadata": {},
   "outputs": [
    {
     "name": "stdout",
     "output_type": "stream",
     "text": [
      "\n",
      " [INFO] Initializing face capture. Look the camera and wait ...\n",
      "\n",
      " [INFO] Exiting Program and cleanup stuff\n"
     ]
    }
   ],
   "source": [
    "register_face()"
   ]
  },
  {
   "cell_type": "markdown",
   "metadata": {},
   "source": [
    "## Training the model\n",
    "\n",
    "train our model to recognise the registered faces"
   ]
  },
  {
   "cell_type": "code",
   "execution_count": 53,
   "metadata": {},
   "outputs": [
    {
     "name": "stdout",
     "output_type": "stream",
     "text": [
      "\n",
      " [INFO] Training faces. It will take a few seconds. Wait ...\n",
      "\n",
      " [INFO] 1 faces trained. Exiting Program\n"
     ]
    }
   ],
   "source": [
    "# Path for face image database\n",
    "path = \"dataset\"\n",
    "recognizer = cv2.face.LBPHFaceRecognizer_create()\n",
    "detector = cv2.CascadeClassifier(\"haarcascade_frontalface_default.xml\")\n",
    "# function to get the images and label data\n",
    "def getImagesAndLabels(path):\n",
    "    imagePaths = [os.path.join(path, f) for f in os.listdir(path)]\n",
    "    faceSamples = []\n",
    "    ids = []\n",
    "    for imagePath in imagePaths:\n",
    "        PIL_img = Image.open(imagePath).convert(\"L\")  # grayscale\n",
    "        img_numpy = np.array(PIL_img, \"uint8\")\n",
    "        id = int(os.path.split(imagePath)[-1].split(\".\")[1])\n",
    "        faces = detector.detectMultiScale(img_numpy)\n",
    "        for (x, y, w, h) in faces:\n",
    "            faceSamples.append(img_numpy[y : y + h, x : x + w])\n",
    "            ids.append(id)\n",
    "    return faceSamples, ids\n",
    "\n",
    "\n",
    "print(\"\\n [INFO] Training faces. It will take a few seconds. Wait ...\")\n",
    "\n",
    "faces, ids = getImagesAndLabels(path)\n",
    "recognizer.train(faces, np.array(ids))\n",
    "# Save the model into trainer/trainer.yml\n",
    "recognizer.write(\"trainer/trainer.yml\")\n",
    "print(f\"\\n [INFO] {len(np.unique(ids))} faces trained. Exiting Program\")\n"
   ]
  },
  {
   "cell_type": "code",
   "execution_count": null,
   "metadata": {},
   "outputs": [],
   "source": []
  }
 ],
 "metadata": {
  "kernelspec": {
   "display_name": "Python 3 (ipykernel)",
   "language": "python",
   "name": "python3"
  },
  "language_info": {
   "codemirror_mode": {
    "name": "ipython",
    "version": 3
   },
   "file_extension": ".py",
   "mimetype": "text/x-python",
   "name": "python",
   "nbconvert_exporter": "python",
   "pygments_lexer": "ipython3",
   "version": "3.8.10"
  },
  "vscode": {
   "interpreter": {
    "hash": "916dbcbb3f70747c44a77c7bcd40155683ae19c65e1c03b4aa3499c5328201f1"
   }
  }
 },
 "nbformat": 4,
 "nbformat_minor": 4
}
